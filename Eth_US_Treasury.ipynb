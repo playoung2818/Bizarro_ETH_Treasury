{
 "cells": [
  {
   "cell_type": "code",
   "execution_count": 1,
   "id": "47bd57d5",
   "metadata": {},
   "outputs": [
    {
     "name": "stderr",
     "output_type": "stream",
     "text": [
      "/Users/liyuxuan/opt/anaconda3/lib/python3.9/site-packages/scipy/__init__.py:146: UserWarning: A NumPy version >=1.16.5 and <1.23.0 is required for this version of SciPy (detected version 1.25.1\n",
      "  warnings.warn(f\"A NumPy version >={np_minversion} and <{np_maxversion}\"\n"
     ]
    }
   ],
   "source": [
    "import pandas as pd\n",
    "import numpy as np\n",
    "import statsmodels.api as sm\n",
    "\n",
    "# Read the Ethereum price data from the CSV file\n",
    "eth_data = pd.read_csv('eth-usd-max.csv')\n",
    "# Convert the 'Date' column to a datetime object if needed\n",
    "eth_data['Date'] = pd.to_datetime(eth_data['Date'])\n",
    "\n",
    "# Extract the date part only\n",
    "eth_data['Date'] = eth_data['Date'].dt.strftime('%Y-%m-%d')\n",
    "\n",
    "eth_data['Date'] = eth_data['Date'].astype(str).str.replace('-', '/')\n",
    "\n",
    "# Sort the data by date in ascending order\n",
    "eth_data = eth_data.sort_values('Date')\n",
    "\n",
    "# Calculate the daily returns\n",
    "eth_data['Return'] = np.log(eth_data['price']) - np.log(eth_data['price'].shift(1))\n"
   ]
  },
  {
   "cell_type": "code",
   "execution_count": 2,
   "id": "7f59321e",
   "metadata": {},
   "outputs": [
    {
     "data": {
      "text/html": [
       "<div>\n",
       "<style scoped>\n",
       "    .dataframe tbody tr th:only-of-type {\n",
       "        vertical-align: middle;\n",
       "    }\n",
       "\n",
       "    .dataframe tbody tr th {\n",
       "        vertical-align: top;\n",
       "    }\n",
       "\n",
       "    .dataframe thead th {\n",
       "        text-align: right;\n",
       "    }\n",
       "</style>\n",
       "<table border=\"1\" class=\"dataframe\">\n",
       "  <thead>\n",
       "    <tr style=\"text-align: right;\">\n",
       "      <th></th>\n",
       "      <th>Date</th>\n",
       "      <th>price</th>\n",
       "      <th>market_cap</th>\n",
       "      <th>total_volume</th>\n",
       "      <th>Return</th>\n",
       "    </tr>\n",
       "  </thead>\n",
       "  <tbody>\n",
       "    <tr>\n",
       "      <th>0</th>\n",
       "      <td>2015/08/07</td>\n",
       "      <td>2.831620</td>\n",
       "      <td>0.000000e+00</td>\n",
       "      <td>9.062200e+04</td>\n",
       "      <td>NaN</td>\n",
       "    </tr>\n",
       "    <tr>\n",
       "      <th>1</th>\n",
       "      <td>2015/08/08</td>\n",
       "      <td>1.330750</td>\n",
       "      <td>8.033948e+07</td>\n",
       "      <td>3.680700e+05</td>\n",
       "      <td>-0.755106</td>\n",
       "    </tr>\n",
       "    <tr>\n",
       "      <th>2</th>\n",
       "      <td>2015/08/10</td>\n",
       "      <td>0.687586</td>\n",
       "      <td>4.155631e+07</td>\n",
       "      <td>4.004641e+05</td>\n",
       "      <td>-0.660311</td>\n",
       "    </tr>\n",
       "    <tr>\n",
       "      <th>3</th>\n",
       "      <td>2015/08/11</td>\n",
       "      <td>1.067379</td>\n",
       "      <td>6.453901e+07</td>\n",
       "      <td>1.518998e+06</td>\n",
       "      <td>0.439775</td>\n",
       "    </tr>\n",
       "    <tr>\n",
       "      <th>4</th>\n",
       "      <td>2015/08/12</td>\n",
       "      <td>1.256613</td>\n",
       "      <td>7.601326e+07</td>\n",
       "      <td>2.073893e+06</td>\n",
       "      <td>0.163214</td>\n",
       "    </tr>\n",
       "    <tr>\n",
       "      <th>...</th>\n",
       "      <td>...</td>\n",
       "      <td>...</td>\n",
       "      <td>...</td>\n",
       "      <td>...</td>\n",
       "      <td>...</td>\n",
       "    </tr>\n",
       "    <tr>\n",
       "      <th>2893</th>\n",
       "      <td>2023/07/10</td>\n",
       "      <td>1864.579471</td>\n",
       "      <td>2.240880e+11</td>\n",
       "      <td>1.979559e+10</td>\n",
       "      <td>-0.000155</td>\n",
       "    </tr>\n",
       "    <tr>\n",
       "      <th>2894</th>\n",
       "      <td>2023/07/11</td>\n",
       "      <td>1880.242473</td>\n",
       "      <td>2.259740e+11</td>\n",
       "      <td>8.391364e+09</td>\n",
       "      <td>0.008365</td>\n",
       "    </tr>\n",
       "    <tr>\n",
       "      <th>2895</th>\n",
       "      <td>2023/07/12</td>\n",
       "      <td>1878.233708</td>\n",
       "      <td>2.258320e+11</td>\n",
       "      <td>5.375019e+09</td>\n",
       "      <td>-0.001069</td>\n",
       "    </tr>\n",
       "    <tr>\n",
       "      <th>2896</th>\n",
       "      <td>2023/07/13</td>\n",
       "      <td>1873.506815</td>\n",
       "      <td>2.250810e+11</td>\n",
       "      <td>7.979716e+09</td>\n",
       "      <td>-0.002520</td>\n",
       "    </tr>\n",
       "    <tr>\n",
       "      <th>2897</th>\n",
       "      <td>2023/07/14</td>\n",
       "      <td>2003.253616</td>\n",
       "      <td>2.406560e+11</td>\n",
       "      <td>1.225324e+10</td>\n",
       "      <td>0.066961</td>\n",
       "    </tr>\n",
       "  </tbody>\n",
       "</table>\n",
       "<p>2898 rows × 5 columns</p>\n",
       "</div>"
      ],
      "text/plain": [
       "            Date        price    market_cap  total_volume    Return\n",
       "0     2015/08/07     2.831620  0.000000e+00  9.062200e+04       NaN\n",
       "1     2015/08/08     1.330750  8.033948e+07  3.680700e+05 -0.755106\n",
       "2     2015/08/10     0.687586  4.155631e+07  4.004641e+05 -0.660311\n",
       "3     2015/08/11     1.067379  6.453901e+07  1.518998e+06  0.439775\n",
       "4     2015/08/12     1.256613  7.601326e+07  2.073893e+06  0.163214\n",
       "...          ...          ...           ...           ...       ...\n",
       "2893  2023/07/10  1864.579471  2.240880e+11  1.979559e+10 -0.000155\n",
       "2894  2023/07/11  1880.242473  2.259740e+11  8.391364e+09  0.008365\n",
       "2895  2023/07/12  1878.233708  2.258320e+11  5.375019e+09 -0.001069\n",
       "2896  2023/07/13  1873.506815  2.250810e+11  7.979716e+09 -0.002520\n",
       "2897  2023/07/14  2003.253616  2.406560e+11  1.225324e+10  0.066961\n",
       "\n",
       "[2898 rows x 5 columns]"
      ]
     },
     "execution_count": 2,
     "metadata": {},
     "output_type": "execute_result"
    }
   ],
   "source": [
    "eth_data"
   ]
  },
  {
   "cell_type": "code",
   "execution_count": 3,
   "id": "b8addf49",
   "metadata": {},
   "outputs": [],
   "source": [
    "# Read the CSV files for each bond yield\n",
    "yield_1yr_data = pd.read_csv('DGS1.csv')\n",
    "yield_2yr_data = pd.read_csv('DGS2.csv')\n",
    "yield_10yr_data = pd.read_csv('DGS10.csv')\n",
    "\n",
    "# Merge the datasets on the 'Date' column, ensuring that dates align correctly\n",
    "merged_data = yield_1yr_data.merge(yield_2yr_data, on='Date', how='inner')\n",
    "merged_data = merged_data.merge(yield_10yr_data, on='Date', how='inner')"
   ]
  },
  {
   "cell_type": "code",
   "execution_count": 4,
   "id": "ebbc502e",
   "metadata": {},
   "outputs": [],
   "source": [
    "#2018/7/13 to 2018/07/13 so can inner join\n",
    "# Convert the 'Date' column to a string\n",
    "merged_data['Date'] = merged_data['Date'].astype(str)\n",
    "\n",
    "# Split the date into year, month, and day components\n",
    "merged_data[['Year', 'Month', 'Day']] = merged_data['Date'].str.split('/', expand=True)\n",
    "\n",
    "# Pad the month and day values with leading zeros\n",
    "merged_data['Month'] = merged_data['Month'].str.zfill(2)\n",
    "merged_data['Day'] = merged_data['Day'].str.zfill(2)\n",
    "\n",
    "# Combine the components back into the desired format\n",
    "merged_data['Date'] = merged_data['Year'] + '/' + merged_data['Month'] + '/' + merged_data['Day']\n",
    "\n",
    "# Drop the intermediate columns\n",
    "merged_data = merged_data.drop(columns=['Year', 'Month', 'Day'])\n",
    "\n",
    "#merged with eth_data\n",
    "merged_data = merged_data.merge(eth_data, on='Date', how='inner')\n",
    "\n"
   ]
  },
  {
   "cell_type": "code",
   "execution_count": 5,
   "id": "b7b4b816",
   "metadata": {},
   "outputs": [],
   "source": [
    "merged_data['DGS1'] = merged_data['DGS1'].replace('.', np.nan)\n",
    "merged_data['DGS2'] = merged_data['DGS2'].replace('.', np.nan)\n",
    "merged_data['DGS10'] = merged_data['DGS10'].replace('.', np.nan)\n",
    "merged_data.dropna(subset=['DGS1', 'DGS2', 'DGS10'], inplace=True)"
   ]
  },
  {
   "cell_type": "code",
   "execution_count": 6,
   "id": "17ba1e4a",
   "metadata": {},
   "outputs": [
    {
     "data": {
      "text/html": [
       "<div>\n",
       "<style scoped>\n",
       "    .dataframe tbody tr th:only-of-type {\n",
       "        vertical-align: middle;\n",
       "    }\n",
       "\n",
       "    .dataframe tbody tr th {\n",
       "        vertical-align: top;\n",
       "    }\n",
       "\n",
       "    .dataframe thead th {\n",
       "        text-align: right;\n",
       "    }\n",
       "</style>\n",
       "<table border=\"1\" class=\"dataframe\">\n",
       "  <thead>\n",
       "    <tr style=\"text-align: right;\">\n",
       "      <th></th>\n",
       "      <th>Date</th>\n",
       "      <th>DGS1</th>\n",
       "      <th>DGS2</th>\n",
       "      <th>DGS10</th>\n",
       "      <th>price</th>\n",
       "      <th>market_cap</th>\n",
       "      <th>total_volume</th>\n",
       "      <th>Return</th>\n",
       "    </tr>\n",
       "  </thead>\n",
       "  <tbody>\n",
       "    <tr>\n",
       "      <th>0</th>\n",
       "      <td>2018/07/13</td>\n",
       "      <td>2.37</td>\n",
       "      <td>2.59</td>\n",
       "      <td>2.83</td>\n",
       "      <td>427.792244</td>\n",
       "      <td>4.305858e+10</td>\n",
       "      <td>1.431812e+09</td>\n",
       "      <td>-0.034990</td>\n",
       "    </tr>\n",
       "    <tr>\n",
       "      <th>1</th>\n",
       "      <td>2018/07/16</td>\n",
       "      <td>2.39</td>\n",
       "      <td>2.59</td>\n",
       "      <td>2.85</td>\n",
       "      <td>446.609521</td>\n",
       "      <td>4.498001e+10</td>\n",
       "      <td>1.144805e+09</td>\n",
       "      <td>0.033758</td>\n",
       "    </tr>\n",
       "    <tr>\n",
       "      <th>2</th>\n",
       "      <td>2018/07/17</td>\n",
       "      <td>2.39</td>\n",
       "      <td>2.62</td>\n",
       "      <td>2.86</td>\n",
       "      <td>478.208507</td>\n",
       "      <td>4.817224e+10</td>\n",
       "      <td>2.202047e+09</td>\n",
       "      <td>0.068362</td>\n",
       "    </tr>\n",
       "    <tr>\n",
       "      <th>3</th>\n",
       "      <td>2018/07/18</td>\n",
       "      <td>2.43</td>\n",
       "      <td>2.6</td>\n",
       "      <td>2.88</td>\n",
       "      <td>497.177546</td>\n",
       "      <td>5.009338e+10</td>\n",
       "      <td>1.948063e+09</td>\n",
       "      <td>0.038900</td>\n",
       "    </tr>\n",
       "    <tr>\n",
       "      <th>4</th>\n",
       "      <td>2018/07/19</td>\n",
       "      <td>2.4</td>\n",
       "      <td>2.6</td>\n",
       "      <td>2.84</td>\n",
       "      <td>475.990158</td>\n",
       "      <td>4.796830e+10</td>\n",
       "      <td>1.914259e+09</td>\n",
       "      <td>-0.043550</td>\n",
       "    </tr>\n",
       "    <tr>\n",
       "      <th>...</th>\n",
       "      <td>...</td>\n",
       "      <td>...</td>\n",
       "      <td>...</td>\n",
       "      <td>...</td>\n",
       "      <td>...</td>\n",
       "      <td>...</td>\n",
       "      <td>...</td>\n",
       "      <td>...</td>\n",
       "    </tr>\n",
       "    <tr>\n",
       "      <th>1300</th>\n",
       "      <td>2023/07/07</td>\n",
       "      <td>5.41</td>\n",
       "      <td>4.94</td>\n",
       "      <td>4.06</td>\n",
       "      <td>1855.474784</td>\n",
       "      <td>2.234120e+11</td>\n",
       "      <td>1.354406e+10</td>\n",
       "      <td>-0.029227</td>\n",
       "    </tr>\n",
       "    <tr>\n",
       "      <th>1301</th>\n",
       "      <td>2023/07/10</td>\n",
       "      <td>5.38</td>\n",
       "      <td>4.85</td>\n",
       "      <td>4.01</td>\n",
       "      <td>1864.579471</td>\n",
       "      <td>2.240880e+11</td>\n",
       "      <td>1.979559e+10</td>\n",
       "      <td>-0.000155</td>\n",
       "    </tr>\n",
       "    <tr>\n",
       "      <th>1302</th>\n",
       "      <td>2023/07/11</td>\n",
       "      <td>5.44</td>\n",
       "      <td>4.88</td>\n",
       "      <td>3.99</td>\n",
       "      <td>1880.242473</td>\n",
       "      <td>2.259740e+11</td>\n",
       "      <td>8.391364e+09</td>\n",
       "      <td>0.008365</td>\n",
       "    </tr>\n",
       "    <tr>\n",
       "      <th>1303</th>\n",
       "      <td>2023/07/12</td>\n",
       "      <td>5.35</td>\n",
       "      <td>4.72</td>\n",
       "      <td>3.86</td>\n",
       "      <td>1878.233708</td>\n",
       "      <td>2.258320e+11</td>\n",
       "      <td>5.375019e+09</td>\n",
       "      <td>-0.001069</td>\n",
       "    </tr>\n",
       "    <tr>\n",
       "      <th>1304</th>\n",
       "      <td>2023/07/13</td>\n",
       "      <td>5.27</td>\n",
       "      <td>4.59</td>\n",
       "      <td>3.76</td>\n",
       "      <td>1873.506815</td>\n",
       "      <td>2.250810e+11</td>\n",
       "      <td>7.979716e+09</td>\n",
       "      <td>-0.002520</td>\n",
       "    </tr>\n",
       "  </tbody>\n",
       "</table>\n",
       "<p>1250 rows × 8 columns</p>\n",
       "</div>"
      ],
      "text/plain": [
       "            Date  DGS1  DGS2 DGS10        price    market_cap  total_volume  \\\n",
       "0     2018/07/13  2.37  2.59  2.83   427.792244  4.305858e+10  1.431812e+09   \n",
       "1     2018/07/16  2.39  2.59  2.85   446.609521  4.498001e+10  1.144805e+09   \n",
       "2     2018/07/17  2.39  2.62  2.86   478.208507  4.817224e+10  2.202047e+09   \n",
       "3     2018/07/18  2.43   2.6  2.88   497.177546  5.009338e+10  1.948063e+09   \n",
       "4     2018/07/19   2.4   2.6  2.84   475.990158  4.796830e+10  1.914259e+09   \n",
       "...          ...   ...   ...   ...          ...           ...           ...   \n",
       "1300  2023/07/07  5.41  4.94  4.06  1855.474784  2.234120e+11  1.354406e+10   \n",
       "1301  2023/07/10  5.38  4.85  4.01  1864.579471  2.240880e+11  1.979559e+10   \n",
       "1302  2023/07/11  5.44  4.88  3.99  1880.242473  2.259740e+11  8.391364e+09   \n",
       "1303  2023/07/12  5.35  4.72  3.86  1878.233708  2.258320e+11  5.375019e+09   \n",
       "1304  2023/07/13  5.27  4.59  3.76  1873.506815  2.250810e+11  7.979716e+09   \n",
       "\n",
       "        Return  \n",
       "0    -0.034990  \n",
       "1     0.033758  \n",
       "2     0.068362  \n",
       "3     0.038900  \n",
       "4    -0.043550  \n",
       "...        ...  \n",
       "1300 -0.029227  \n",
       "1301 -0.000155  \n",
       "1302  0.008365  \n",
       "1303 -0.001069  \n",
       "1304 -0.002520  \n",
       "\n",
       "[1250 rows x 8 columns]"
      ]
     },
     "execution_count": 6,
     "metadata": {},
     "output_type": "execute_result"
    }
   ],
   "source": [
    "merged_data"
   ]
  },
  {
   "cell_type": "code",
   "execution_count": 7,
   "id": "a6ec18f0",
   "metadata": {},
   "outputs": [],
   "source": [
    "merged_data.to_csv(\"bizzao_capital.csv\", index=False)"
   ]
  },
  {
   "cell_type": "code",
   "execution_count": 8,
   "id": "5688c104",
   "metadata": {},
   "outputs": [],
   "source": [
    "merged_data[['DGS1', 'DGS2', 'DGS10']] = merged_data[['DGS1', 'DGS2', 'DGS10']].apply(pd.to_numeric)\n",
    "\n",
    "\n",
    "X = sm.add_constant(merged_data[['DGS1', 'DGS2', 'DGS10']])\n",
    "y = merged_data['Return']\n",
    "\n",
    "model = sm.OLS(y, X)\n",
    "results = model.fit()\n"
   ]
  },
  {
   "cell_type": "code",
   "execution_count": 9,
   "id": "2d02d9f1",
   "metadata": {},
   "outputs": [
    {
     "name": "stdout",
     "output_type": "stream",
     "text": [
      "                            OLS Regression Results                            \n",
      "==============================================================================\n",
      "Dep. Variable:                 Return   R-squared:                       0.007\n",
      "Model:                            OLS   Adj. R-squared:                  0.005\n",
      "Method:                 Least Squares   F-statistic:                     3.037\n",
      "Date:                Mon, 17 Jul 2023   Prob (F-statistic):             0.0282\n",
      "Time:                        11:55:35   Log-Likelihood:                 1955.3\n",
      "No. Observations:                1250   AIC:                            -3903.\n",
      "Df Residuals:                    1246   BIC:                            -3882.\n",
      "Df Model:                           3                                         \n",
      "Covariance Type:            nonrobust                                         \n",
      "==============================================================================\n",
      "                 coef    std err          t      P>|t|      [0.025      0.975]\n",
      "------------------------------------------------------------------------------\n",
      "const          0.0045      0.006      0.776      0.438      -0.007       0.016\n",
      "DGS1           0.0124      0.006      1.950      0.051   -7.45e-05       0.025\n",
      "DGS2          -0.0161      0.009     -1.744      0.081      -0.034       0.002\n",
      "DGS10          0.0009      0.006      0.155      0.877      -0.011       0.012\n",
      "==============================================================================\n",
      "Omnibus:                      547.679   Durbin-Watson:                   2.044\n",
      "Prob(Omnibus):                  0.000   Jarque-Bera (JB):            12069.899\n",
      "Skew:                          -1.502   Prob(JB):                         0.00\n",
      "Kurtosis:                      17.924   Cond. No.                         35.9\n",
      "==============================================================================\n",
      "\n",
      "Notes:\n",
      "[1] Standard Errors assume that the covariance matrix of the errors is correctly specified.\n"
     ]
    }
   ],
   "source": [
    "# Print the regression results\n",
    "print(results.summary())"
   ]
  },
  {
   "cell_type": "markdown",
   "id": "9f7c63a3",
   "metadata": {},
   "source": [
    "# 1 year US treasury bond"
   ]
  },
  {
   "cell_type": "code",
   "execution_count": 28,
   "id": "6a8652b3",
   "metadata": {},
   "outputs": [
    {
     "name": "stdout",
     "output_type": "stream",
     "text": [
      "                            OLS Regression Results                            \n",
      "==============================================================================\n",
      "Dep. Variable:                 Return   R-squared:                       0.003\n",
      "Model:                            OLS   Adj. R-squared:                  0.002\n",
      "Method:                 Least Squares   F-statistic:                     3.372\n",
      "Date:                Mon, 17 Jul 2023   Prob (F-statistic):             0.0665\n",
      "Time:                        12:57:55   Log-Likelihood:                 1952.4\n",
      "No. Observations:                1250   AIC:                            -3901.\n",
      "Df Residuals:                    1248   BIC:                            -3891.\n",
      "Df Model:                           1                                         \n",
      "Covariance Type:            nonrobust                                         \n",
      "==============================================================================\n",
      "                 coef    std err          t      P>|t|      [0.025      0.975]\n",
      "------------------------------------------------------------------------------\n",
      "const          0.0023      0.002      1.056      0.291      -0.002       0.006\n",
      "DGS1          -0.0016      0.001     -1.836      0.067      -0.003       0.000\n",
      "==============================================================================\n",
      "Omnibus:                      544.167   Durbin-Watson:                   2.034\n",
      "Prob(Omnibus):                  0.000   Jarque-Bera (JB):            11789.207\n",
      "Skew:                          -1.493   Prob(JB):                         0.00\n",
      "Kurtosis:                      17.746   Cond. No.                         4.02\n",
      "==============================================================================\n",
      "\n",
      "Notes:\n",
      "[1] Standard Errors assume that the covariance matrix of the errors is correctly specified.\n"
     ]
    }
   ],
   "source": [
    "X = sm.add_constant(merged_data[['DGS1']])\n",
    "y = merged_data['Return']\n",
    "\n",
    "model = sm.OLS(y, X)\n",
    "results = model.fit()\n",
    "# Print the regression results\n",
    "print(results.summary())"
   ]
  },
  {
   "cell_type": "code",
   "execution_count": 31,
   "id": "4032fe3d",
   "metadata": {},
   "outputs": [
    {
     "data": {
      "image/png": "[encoded data removed]",
      "text/plain": [
       "<Figure size 432x288 with 1 Axes>"
      ]
     },
     "metadata": {
      "needs_background": "light"
     },
     "output_type": "display_data"
    }
   ],
   "source": [
    "import matplotlib.pyplot as plt\n",
    "import numpy as np\n",
    "\n",
    "# Extract the independent variable (US Treasury yield) and dependent variable (ETH returns)\n",
    "x = merged_data['DGS1']\n",
    "y = merged_data['Return']\n",
    "\n",
    "# Fit a polynomial regression line\n",
    "coefs = np.polyfit(x, y, deg=1)\n",
    "poly_func = np.poly1d(coefs)\n",
    "line_x = np.linspace(min(x), max(x), 100)\n",
    "line_y = poly_func(line_x)\n",
    "\n",
    "# Create the scatter plot and regression line\n",
    "fig, ax = plt.subplots()\n",
    "ax.scatter(x, y, color='blue', label='Data')\n",
    "ax.plot(line_x, line_y, color='red', label='Regression Line')\n",
    "\n",
    "# Add labels and title\n",
    "ax.set_xlabel('1 year US Treasury Yield')\n",
    "ax.set_ylabel('ETH Returns')\n",
    "ax.set_title('Scatter Plot with Regression Line')\n",
    "\n",
    "# Add legend\n",
    "ax.legend()\n",
    "\n",
    "# Adjust the plot layout\n",
    "plt.tight_layout()\n",
    "\n",
    "# Display the plot\n",
    "plt.show()\n"
   ]
  },
  {
   "cell_type": "markdown",
   "id": "9a9528bf",
   "metadata": {},
   "source": [
    "# 2 year US treasury bond"
   ]
  },
  {
   "cell_type": "code",
   "execution_count": 32,
   "id": "46036331",
   "metadata": {},
   "outputs": [
    {
     "name": "stdout",
     "output_type": "stream",
     "text": [
      "                            OLS Regression Results                            \n",
      "==============================================================================\n",
      "Dep. Variable:                 Return   R-squared:                       0.004\n",
      "Model:                            OLS   Adj. R-squared:                  0.003\n",
      "Method:                 Least Squares   F-statistic:                     4.737\n",
      "Date:                Mon, 17 Jul 2023   Prob (F-statistic):             0.0297\n",
      "Time:                        12:59:49   Log-Likelihood:                 1953.1\n",
      "No. Observations:                1250   AIC:                            -3902.\n",
      "Df Residuals:                    1248   BIC:                            -3892.\n",
      "Df Model:                           1                                         \n",
      "Covariance Type:            nonrobust                                         \n",
      "==============================================================================\n",
      "                 coef    std err          t      P>|t|      [0.025      0.975]\n",
      "------------------------------------------------------------------------------\n",
      "const          0.0032      0.002      1.398      0.162      -0.001       0.008\n",
      "DGS2          -0.0021      0.001     -2.177      0.030      -0.004      -0.000\n",
      "==============================================================================\n",
      "Omnibus:                      546.889   Durbin-Watson:                   2.037\n",
      "Prob(Omnibus):                  0.000   Jarque-Bera (JB):            11908.961\n",
      "Skew:                          -1.502   Prob(JB):                         0.00\n",
      "Kurtosis:                      17.820   Cond. No.                         4.17\n",
      "==============================================================================\n",
      "\n",
      "Notes:\n",
      "[1] Standard Errors assume that the covariance matrix of the errors is correctly specified.\n"
     ]
    }
   ],
   "source": [
    "X = sm.add_constant(merged_data[['DGS2']])\n",
    "y = merged_data['Return']\n",
    "\n",
    "model = sm.OLS(y, X)\n",
    "results = model.fit()\n",
    "# Print the regression results\n",
    "print(results.summary())"
   ]
  },
  {
   "cell_type": "code",
   "execution_count": 33,
   "id": "6d0ac3ca",
   "metadata": {},
   "outputs": [
    {
     "data": {
      "image/png": "[encoded data removed]",
      "text/plain": [
       "<Figure size 432x288 with 1 Axes>"
      ]
     },
     "metadata": {
      "needs_background": "light"
     },
     "output_type": "display_data"
    }
   ],
   "source": [
    "import matplotlib.pyplot as plt\n",
    "import numpy as np\n",
    "\n",
    "# Extract the independent variable (US Treasury yield) and dependent variable (ETH returns)\n",
    "x = merged_data['DGS1']\n",
    "y = merged_data['Return']\n",
    "\n",
    "# Fit a polynomial regression line\n",
    "coefs = np.polyfit(x, y, deg=1)\n",
    "poly_func = np.poly1d(coefs)\n",
    "line_x = np.linspace(min(x), max(x), 100)\n",
    "line_y = poly_func(line_x)\n",
    "\n",
    "# Create the scatter plot and regression line\n",
    "fig, ax = plt.subplots()\n",
    "ax.scatter(x, y, color='blue', label='Data')\n",
    "ax.plot(line_x, line_y, color='red', label='Regression Line')\n",
    "\n",
    "# Add labels and title\n",
    "ax.set_xlabel('2 year US Treasury Yield')\n",
    "ax.set_ylabel('ETH Returns')\n",
    "ax.set_title('Scatter Plot with Regression Line')\n",
    "\n",
    "# Add legend\n",
    "ax.legend()\n",
    "\n",
    "# Adjust the plot layout\n",
    "plt.tight_layout()\n",
    "\n",
    "# Display the plot\n",
    "plt.show()\n"
   ]
  },
  {
   "cell_type": "markdown",
   "id": "3e16e2a9",
   "metadata": {},
   "source": [
    "# Regression with 10 year US treasury bond"
   ]
  },
  {
   "cell_type": "code",
   "execution_count": 34,
   "id": "91708d7b",
   "metadata": {},
   "outputs": [
    {
     "name": "stdout",
     "output_type": "stream",
     "text": [
      "                            OLS Regression Results                            \n",
      "==============================================================================\n",
      "Dep. Variable:                 Return   R-squared:                       0.004\n",
      "Model:                            OLS   Adj. R-squared:                  0.003\n",
      "Method:                 Least Squares   F-statistic:                     5.279\n",
      "Date:                Mon, 17 Jul 2023   Prob (F-statistic):             0.0217\n",
      "Time:                        12:59:59   Log-Likelihood:                 1953.4\n",
      "No. Observations:                1250   AIC:                            -3903.\n",
      "Df Residuals:                    1248   BIC:                            -3892.\n",
      "Df Model:                           1                                         \n",
      "Covariance Type:            nonrobust                                         \n",
      "==============================================================================\n",
      "                 coef    std err          t      P>|t|      [0.025      0.975]\n",
      "------------------------------------------------------------------------------\n",
      "const          0.0064      0.003      1.888      0.059      -0.000       0.013\n",
      "DGS10         -0.0033      0.001     -2.298      0.022      -0.006      -0.000\n",
      "==============================================================================\n",
      "Omnibus:                      547.085   Durbin-Watson:                   2.037\n",
      "Prob(Omnibus):                  0.000   Jarque-Bera (JB):            12042.167\n",
      "Skew:                          -1.500   Prob(JB):                         0.00\n",
      "Kurtosis:                      17.907   Cond. No.                         6.42\n",
      "==============================================================================\n",
      "\n",
      "Notes:\n",
      "[1] Standard Errors assume that the covariance matrix of the errors is correctly specified.\n"
     ]
    }
   ],
   "source": [
    "X = sm.add_constant(merged_data[['DGS10']])\n",
    "y = merged_data['Return']\n",
    "\n",
    "model = sm.OLS(y, X)\n",
    "results = model.fit()\n",
    "# Print the regression results\n",
    "print(results.summary())\n"
   ]
  },
  {
   "cell_type": "code",
   "execution_count": 35,
   "id": "ce25eb7a",
   "metadata": {},
   "outputs": [
    {
     "data": {
      "image/png": "[encoded data removed]",
      "text/plain": [
       "<Figure size 432x288 with 1 Axes>"
      ]
     },
     "metadata": {
      "needs_background": "light"
     },
     "output_type": "display_data"
    }
   ],
   "source": [
    "import matplotlib.pyplot as plt\n",
    "import numpy as np\n",
    "\n",
    "# Extract the independent variable (US Treasury yield) and dependent variable (ETH returns)\n",
    "x = merged_data['DGS10']\n",
    "y = merged_data['Return']\n",
    "\n",
    "# Fit a polynomial regression line\n",
    "coefs = np.polyfit(x, y, deg=1)\n",
    "poly_func = np.poly1d(coefs)\n",
    "line_x = np.linspace(min(x), max(x), 100)\n",
    "line_y = poly_func(line_x)\n",
    "\n",
    "# Create the scatter plot and regression line\n",
    "fig, ax = plt.subplots()\n",
    "ax.scatter(x, y, color='blue', label='Data')\n",
    "ax.plot(line_x, line_y, color='red', label='Regression Line')\n",
    "\n",
    "# Add labels and title\n",
    "ax.set_xlabel('10 year US Treasury Yield')\n",
    "ax.set_ylabel('ETH Returns')\n",
    "ax.set_title('Scatter Plot with Regression Line')\n",
    "\n",
    "# Add legend\n",
    "ax.legend()\n",
    "\n",
    "# Adjust the plot layout\n",
    "plt.tight_layout()\n",
    "\n",
    "# Display the plot\n",
    "plt.show()\n"
   ]
  },
  {
   "cell_type": "markdown",
   "id": "7be9a724",
   "metadata": {},
   "source": [
    "# correlation test"
   ]
  },
  {
   "cell_type": "code",
   "execution_count": 13,
   "id": "427d3bc7",
   "metadata": {},
   "outputs": [
    {
     "name": "stdout",
     "output_type": "stream",
     "text": [
      "Correlation Coefficient: -0.05191189007997178\n"
     ]
    }
   ],
   "source": [
    "import pandas as pd\n",
    "\n",
    "# Prepare the data\n",
    "eth_returns = merged_data['Return']\n",
    "treasury_yields = merged_data['DGS1']\n",
    "\n",
    "# Calculate the correlation coefficient\n",
    "correlation_coefficient = eth_returns.corr(treasury_yields)\n",
    "\n",
    "# Print the correlation coefficient\n",
    "print(\"Correlation Coefficient:\", correlation_coefficient)"
   ]
  },
  {
   "cell_type": "code",
   "execution_count": 14,
   "id": "a61c1305",
   "metadata": {},
   "outputs": [
    {
     "name": "stdout",
     "output_type": "stream",
     "text": [
      "Correlation Coefficient: -0.061493977173849204\n"
     ]
    }
   ],
   "source": [
    "import pandas as pd\n",
    "\n",
    "# Prepare the data\n",
    "eth_returns = merged_data['Return']\n",
    "treasury_yields = merged_data['DGS2']\n",
    "\n",
    "# Calculate the correlation coefficient\n",
    "correlation_coefficient = eth_returns.corr(treasury_yields)\n",
    "\n",
    "# Print the correlation coefficient\n",
    "print(\"Correlation Coefficient:\", correlation_coefficient)"
   ]
  },
  {
   "cell_type": "code",
   "execution_count": 15,
   "id": "37d302a0",
   "metadata": {},
   "outputs": [
    {
     "name": "stdout",
     "output_type": "stream",
     "text": [
      "Correlation Coefficient: -0.06490267607895009\n"
     ]
    }
   ],
   "source": [
    "import pandas as pd\n",
    "\n",
    "# Prepare the data\n",
    "eth_returns = merged_data['Return']\n",
    "treasury_yields = merged_data['DGS10']\n",
    "\n",
    "# Calculate the correlation coefficient\n",
    "correlation_coefficient = eth_returns.corr(treasury_yields)\n",
    "\n",
    "# Print the correlation coefficient\n",
    "print(\"Correlation Coefficient:\", correlation_coefficient)"
   ]
  },
  {
   "cell_type": "code",
   "execution_count": 41,
   "id": "3e5a3841",
   "metadata": {},
   "outputs": [
    {
     "data": {
      "image/png": "[encoded data removed]",
      "text/plain": [
       "<Figure size 432x288 with 2 Axes>"
      ]
     },
     "metadata": {
      "needs_background": "light"
     },
     "output_type": "display_data"
    }
   ],
   "source": [
    "import seaborn as sns\n",
    "\n",
    "# Select the columns of interest\n",
    "columns_of_interest = ['Return', 'DGS1', 'DGS2', 'DGS10']\n",
    "\n",
    "# Create a correlation matrix\n",
    "correlation_matrix = merged_data[columns_of_interest].corr()\n",
    "\n",
    "# Plot the heatmap\n",
    "sns.heatmap(correlation_matrix, annot=True, cmap='coolwarm')\n",
    "\n",
    "# Add title\n",
    "plt.title('Correlation Heatmap: Ethereum Returns vs. US Treasury Yields')\n",
    "\n",
    "# Display the heatmap\n",
    "plt.show()"
   ]
  }
 ],
 "metadata": {
  "kernelspec": {
   "display_name": "Python 3 (ipykernel)",
   "language": "python",
   "name": "python3"
  },
  "language_info": {
   "codemirror_mode": {
    "name": "ipython",
    "version": 3
   },
   "file_extension": ".py",
   "mimetype": "text/x-python",
   "name": "python",
   "nbconvert_exporter": "python",
   "pygments_lexer": "ipython3",
   "version": "3.9.12"
  }
 },
 "nbformat": 4,
 "nbformat_minor": 5
}
